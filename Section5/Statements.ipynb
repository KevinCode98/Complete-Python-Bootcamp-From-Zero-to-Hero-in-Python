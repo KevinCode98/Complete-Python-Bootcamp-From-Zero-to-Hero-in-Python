{
 "cells": [
  {
   "cell_type": "markdown",
   "id": "a2ff5019",
   "metadata": {},
   "source": [
    "# If, elif, else Statements\n",
    "\n",
    "* Let's begin to learn about **control flow**\n",
    "\n",
    "* We often only want certain code to execute when a particular condition has been met.\n",
    "\n",
    "* For example, **if** my dog is hungry (some condition), then I will feed the dog (some action).\n",
    "\n",
    "* To control this flow of logic we use some keywords: \n",
    "    * if\n",
    "    * elif\n",
    "    * else\n",
    "    \n",
    "    \n",
    "* Control Flow  syntax makes use of clons and indentation (whitespace).\n",
    "\n",
    "* This indentation system is curcial to Python and is what sets it apart from other programming languages. "
   ]
  },
  {
   "cell_type": "markdown",
   "id": "73c85fba",
   "metadata": {},
   "source": [
    "* Syntax of an **if** statement:"
   ]
  },
  {
   "cell_type": "code",
   "execution_count": null,
   "id": "6bf0128b",
   "metadata": {},
   "outputs": [],
   "source": [
    "if some_condition:\n",
    "   # execute some code "
   ]
  },
  {
   "cell_type": "markdown",
   "id": "e987ee81",
   "metadata": {},
   "source": [
    "* Syntax on an **if/else** statement:"
   ]
  },
  {
   "cell_type": "code",
   "execution_count": null,
   "id": "8f40cb83",
   "metadata": {},
   "outputs": [],
   "source": [
    "if some_condition:\n",
    "    # execute some code\n",
    "else:\n",
    "    # do something else"
   ]
  },
  {
   "cell_type": "markdown",
   "id": "b01bb415",
   "metadata": {},
   "source": [
    "* Syntax of an **if/else** statement:"
   ]
  },
  {
   "cell_type": "code",
   "execution_count": null,
   "id": "b563032e",
   "metadata": {},
   "outputs": [],
   "source": [
    "if some_condition:\n",
    "    # execute some code\n",
    "elif some_other_condition:\n",
    "    # do something different\n",
    "else: \n",
    "    # do something else"
   ]
  },
  {
   "cell_type": "code",
   "execution_count": 1,
   "id": "c0df6a72",
   "metadata": {},
   "outputs": [
    {
     "name": "stdout",
     "output_type": "stream",
     "text": [
      "Its true!\n"
     ]
    }
   ],
   "source": [
    "if True:\n",
    "    print('Its true!')"
   ]
  },
  {
   "cell_type": "code",
   "execution_count": 5,
   "id": "efb75919",
   "metadata": {},
   "outputs": [
    {
     "name": "stdout",
     "output_type": "stream",
     "text": [
      "FEED ME!\n"
     ]
    }
   ],
   "source": [
    "hungry = True\n",
    "\n",
    "if hungry:\n",
    "    print('FEED ME!')\n",
    "else:\n",
    "    print('Im not hungry')"
   ]
  },
  {
   "cell_type": "code",
   "execution_count": 10,
   "id": "f726015b",
   "metadata": {},
   "outputs": [
    {
     "name": "stdout",
     "output_type": "stream",
     "text": [
      "I do not know much.\n"
     ]
    }
   ],
   "source": [
    "loc = 'Game'\n",
    "\n",
    "if loc == 'Auto Shop':\n",
    "    print('Cars are cool!')\n",
    "elif loc == 'Bank':\n",
    "    print('Money is cool!')\n",
    "elif loc == 'Store':\n",
    "    print('Welcome to the store!')\n",
    "else:\n",
    "    print('I do not know much.')"
   ]
  },
  {
   "cell_type": "code",
   "execution_count": 15,
   "id": "c91b96ad",
   "metadata": {},
   "outputs": [
    {
     "name": "stdout",
     "output_type": "stream",
     "text": [
      "What is your name\n"
     ]
    }
   ],
   "source": [
    "name = 'Jose'\n",
    "if name == 'Frankie':\n",
    "    print('Hello Frankie')\n",
    "elif name == 'Sammy':\n",
    "    print('Hello Sammy')\n",
    "else:\n",
    "    print('What is your name')"
   ]
  }
 ],
 "metadata": {
  "kernelspec": {
   "display_name": "Python 3 (ipykernel)",
   "language": "python",
   "name": "python3"
  },
  "language_info": {
   "codemirror_mode": {
    "name": "ipython",
    "version": 3
   },
   "file_extension": ".py",
   "mimetype": "text/x-python",
   "name": "python",
   "nbconvert_exporter": "python",
   "pygments_lexer": "ipython3",
   "version": "3.9.12"
  }
 },
 "nbformat": 4,
 "nbformat_minor": 5
}
