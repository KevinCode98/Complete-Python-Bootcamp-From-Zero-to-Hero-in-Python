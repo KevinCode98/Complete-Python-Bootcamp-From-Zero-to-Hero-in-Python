{
 "cells": [
  {
   "cell_type": "markdown",
   "id": "2e9d67a3",
   "metadata": {},
   "source": [
    "# While Loops in Python\n",
    "\n",
    "While loops will continue to execute a block o code **while** some condition remains True.\n",
    "\n",
    "For example, **while** my pool is not full, keep filling my pool with water.\n",
    "\n",
    "or **while** my dogs are still hungry, keep feeding my dogs."
   ]
  },
  {
   "cell_type": "markdown",
   "id": "2afb6213",
   "metadata": {},
   "source": [
    "* Syntax of a while loop "
   ]
  },
  {
   "cell_type": "code",
   "execution_count": null,
   "id": "30843fdc",
   "metadata": {},
   "outputs": [],
   "source": [
    "while some_boolean_condition: \n",
    "    # do something\n",
    "else: \n",
    "    # do something different"
   ]
  },
  {
   "cell_type": "code",
   "execution_count": 2,
   "id": "03e08f44",
   "metadata": {},
   "outputs": [
    {
     "name": "stdout",
     "output_type": "stream",
     "text": [
      "The current value of x is 0\n",
      "The current value of x is 1\n",
      "The current value of x is 2\n",
      "The current value of x is 3\n",
      "The current value of x is 4\n",
      "X IS NOT LESS THAN 5\n"
     ]
    }
   ],
   "source": [
    "x = 0\n",
    "while x < 5: \n",
    "    print(f'The current value of x is {x}')\n",
    "    x += 1\n",
    "else: \n",
    "    print('X IS NOT LESS THAN 5')"
   ]
  },
  {
   "cell_type": "markdown",
   "id": "c026b196",
   "metadata": {},
   "source": [
    "## Break, continue, pass\n",
    "\n",
    "We can use break, continue, and pass statements in our loops to add additional functioinality for various cases. The three statements are defined by:\n",
    "\n",
    " * **break**: Breaks out of the current closets enclosing loop.\n",
    " * **continue**: Goes to the top of the closets enclosing loop.\n",
    " * **pass**: Does nothing at all."
   ]
  },
  {
   "cell_type": "code",
   "execution_count": 4,
   "id": "2a46b031",
   "metadata": {},
   "outputs": [
    {
     "name": "stdout",
     "output_type": "stream",
     "text": [
      "end of the script\n"
     ]
    }
   ],
   "source": [
    "x = [1,2,3]\n",
    "\n",
    "for item in x:\n",
    "    pass \n",
    "\n",
    "print('end of the script')"
   ]
  },
  {
   "cell_type": "markdown",
   "id": "015b20e1",
   "metadata": {},
   "source": [
    "---"
   ]
  },
  {
   "cell_type": "code",
   "execution_count": 6,
   "id": "6080c1d4",
   "metadata": {},
   "outputs": [
    {
     "name": "stdout",
     "output_type": "stream",
     "text": [
      "S\n",
      "m\n",
      "m\n",
      "y\n"
     ]
    }
   ],
   "source": [
    "mystring = 'Sammy'\n",
    "\n",
    "for letter in mystring:\n",
    "    if letter == 'a':\n",
    "        continue\n",
    "    print(letter)"
   ]
  },
  {
   "cell_type": "markdown",
   "id": "2d9e7560",
   "metadata": {},
   "source": [
    "---"
   ]
  },
  {
   "cell_type": "code",
   "execution_count": 10,
   "id": "c4776949",
   "metadata": {},
   "outputs": [
    {
     "name": "stdout",
     "output_type": "stream",
     "text": [
      "S\n"
     ]
    }
   ],
   "source": [
    "mystring = 'Sammy'\n",
    "\n",
    "for letter in mystring:\n",
    "    if letter == 'a':\n",
    "        break\n",
    "    print(letter)"
   ]
  },
  {
   "cell_type": "markdown",
   "id": "80dd1b92",
   "metadata": {},
   "source": [
    "---"
   ]
  },
  {
   "cell_type": "code",
   "execution_count": 9,
   "id": "e14d9086",
   "metadata": {},
   "outputs": [
    {
     "name": "stdout",
     "output_type": "stream",
     "text": [
      "0\n",
      "1\n"
     ]
    }
   ],
   "source": [
    "x = 0\n",
    "\n",
    "while x < 5: \n",
    "    if x == 2:\n",
    "        break\n",
    "    print(x)\n",
    "    x += 1"
   ]
  }
 ],
 "metadata": {
  "kernelspec": {
   "display_name": "Python 3 (ipykernel)",
   "language": "python",
   "name": "python3"
  },
  "language_info": {
   "codemirror_mode": {
    "name": "ipython",
    "version": 3
   },
   "file_extension": ".py",
   "mimetype": "text/x-python",
   "name": "python",
   "nbconvert_exporter": "python",
   "pygments_lexer": "ipython3",
   "version": "3.9.12"
  }
 },
 "nbformat": 4,
 "nbformat_minor": 5
}
