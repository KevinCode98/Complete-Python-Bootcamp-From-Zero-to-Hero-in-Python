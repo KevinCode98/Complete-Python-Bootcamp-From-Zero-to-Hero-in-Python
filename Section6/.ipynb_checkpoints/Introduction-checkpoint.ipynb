{
 "cells": [
  {
   "cell_type": "markdown",
   "id": "ed9bbce4",
   "metadata": {},
   "source": [
    "# Intoduction to Functions \n",
    "\n",
    "## Functions\n",
    "\n",
    "* Creating clean repeatable code is a key part of becoming an effective programmer.\n",
    "\n",
    "* **Function** allow us to create blocks of code that can be easily executed many times, without needing to constantly rewrite the entire block of code. \n",
    "\n",
    "* Functions will be a huge leap forward in your capabilities as a Python programmer.\n",
    "\n",
    "* This means that te problems you are able to solve can also be a lot harder!\n",
    "\n",
    "* It is very important to get practice combining everything you've learned so far (control flow, loops, etc.) with functions to become an effective programmer.\n",
    "\n",
    "* This may be a point in your progress where you may get discouraged or frustrated, do not worry, this is completely normal and very common! \n",
    "\n",
    "* We will guide you step by step, be patient with yourself and practice, practicem practice!!\n",
    "\n",
    "* **Be patient with yourself.**\n",
    "\n",
    "* **Take your time to practice the mareial.**\n",
    "\n",
    "* **Start getting excited about you new skills and start thinking about personal projects.**\n",
    "\n"
   ]
  }
 ],
 "metadata": {
  "kernelspec": {
   "display_name": "Python 3 (ipykernel)",
   "language": "python",
   "name": "python3"
  },
  "language_info": {
   "codemirror_mode": {
    "name": "ipython",
    "version": 3
   },
   "file_extension": ".py",
   "mimetype": "text/x-python",
   "name": "python",
   "nbconvert_exporter": "python",
   "pygments_lexer": "ipython3",
   "version": "3.9.12"
  }
 },
 "nbformat": 4,
 "nbformat_minor": 5
}
