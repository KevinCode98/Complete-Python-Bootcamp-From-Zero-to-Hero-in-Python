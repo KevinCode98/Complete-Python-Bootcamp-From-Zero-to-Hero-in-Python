{
 "cells": [
  {
   "cell_type": "markdown",
   "id": "ace76661",
   "metadata": {},
   "source": [
    "# def Keyword\n",
    "\n",
    "* Creating a functiono requires a very specific syntax, including the **def** keyword, correct indentation, and proper structure.\n",
    "\n",
    "* Let's get an overview of a Python function structure."
   ]
  },
  {
   "cell_type": "code",
   "execution_count": 3,
   "id": "04bec33e",
   "metadata": {},
   "outputs": [
    {
     "name": "stdout",
     "output_type": "stream",
     "text": [
      "Hello Kevin\n"
     ]
    }
   ],
   "source": [
    "def name_of_function(name):\n",
    "    '''\n",
    "    Docstring explains function\n",
    "    '''\n",
    "    print('Hello', name)\n",
    "    \n",
    "name_of_function('Kevin')"
   ]
  },
  {
   "cell_type": "markdown",
   "id": "595ab321",
   "metadata": {},
   "source": [
    "* Typically we use the **return** keyword to send back the result of the function instead of just printing it out.\n",
    "\n",
    "* **return** allows us to assign the output of the function to a new variable.\n",
    "\n",
    "* We will have a deeper discussion of the **return** keyword later on in the notebook."
   ]
  },
  {
   "cell_type": "code",
   "execution_count": 4,
   "id": "0d27d545",
   "metadata": {},
   "outputs": [
    {
     "data": {
      "text/plain": [
       "3"
      ]
     },
     "execution_count": 4,
     "metadata": {},
     "output_type": "execute_result"
    }
   ],
   "source": [
    "def add_fuction(num1, num2):\n",
    "    return num1 + num2\n",
    "\n",
    "result = add_fuction(1,2)\n",
    "result"
   ]
  }
 ],
 "metadata": {
  "kernelspec": {
   "display_name": "Python 3 (ipykernel)",
   "language": "python",
   "name": "python3"
  },
  "language_info": {
   "codemirror_mode": {
    "name": "ipython",
    "version": 3
   },
   "file_extension": ".py",
   "mimetype": "text/x-python",
   "name": "python",
   "nbconvert_exporter": "python",
   "pygments_lexer": "ipython3",
   "version": "3.9.12"
  }
 },
 "nbformat": 4,
 "nbformat_minor": 5
}
