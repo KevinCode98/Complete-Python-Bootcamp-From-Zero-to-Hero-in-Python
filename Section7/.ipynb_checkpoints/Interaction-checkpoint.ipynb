{
 "cells": [
  {
   "cell_type": "markdown",
   "id": "e93aaf8f",
   "metadata": {},
   "source": [
    "# Simple User Iteraction\n",
    "\n",
    "* To put everything together, let's create a simple interactice program.\n",
    "\n",
    "* The program will\n",
    "    * Display a list\n",
    "    * Have a user choose an index position and an input value\n",
    "    * Replace value at index positioni with user's chosen input value\n",
    "    \n",
    "* Let's see what the fished game looks like, and then constuct it ourselves using the functions we've already made! "
   ]
  },
  {
   "cell_type": "code",
   "execution_count": 1,
   "id": "47701f8a",
   "metadata": {},
   "outputs": [
    {
     "name": "stdout",
     "output_type": "stream",
     "text": [
      "Here is the current list\n",
      "[0, 1, 2]\n"
     ]
    }
   ],
   "source": [
    "game_list =  [0,1,2]\n",
    "from IPython.display import clear_output\n",
    "clear_output()\n",
    "\n",
    "\n",
    "def display_game(game_list):\n",
    "    print('Here is the current list')\n",
    "    print(game_list)\n",
    "    \n",
    "display_game(game_list)"
   ]
  },
  {
   "cell_type": "code",
   "execution_count": 2,
   "id": "14b70826",
   "metadata": {},
   "outputs": [],
   "source": [
    "def position_choice():\n",
    "    choice = 'wrong'\n",
    "    \n",
    "    while choice not in ['0', '1', '2']:\n",
    "        choice = input('Pick a position to replace (0,1,2): ')\n",
    "        if choice not in ['0', '1', '2']:\n",
    "            clear_output()\n",
    "            print('Sorry, but you did not choose a valid position (0,1,2)')\n",
    "    return int(choice)"
   ]
  },
  {
   "cell_type": "code",
   "execution_count": 3,
   "id": "fed6d7b5",
   "metadata": {},
   "outputs": [],
   "source": [
    "def replacement_choice(game_list, position):\n",
    "    user_placement = input('Type a string to place at the position: ')\n",
    "    game_list[position] = user_placement\n",
    "    return game_list"
   ]
  },
  {
   "cell_type": "code",
   "execution_count": 4,
   "id": "739e404b",
   "metadata": {},
   "outputs": [],
   "source": [
    "def gameon_choice():\n",
    "    choice = 'wrong'\n",
    "    \n",
    "    while choice not in ['Y', 'N']:\n",
    "        choice = input('Would you like keep playing? Y or N: ')\n",
    "        if choice not in ['Y', 'N']:\n",
    "            clear_output()\n",
    "            print(\"Sorry, I didn't understand. Please make sure to choose Y or N\")\n",
    "    return True if choice == \"Y\" else False"
   ]
  },
  {
   "cell_type": "code",
   "execution_count": 5,
   "id": "dd409d67",
   "metadata": {},
   "outputs": [
    {
     "name": "stdout",
     "output_type": "stream",
     "text": [
      "Here is the current list\n",
      "['Pepe', 'Juan', 'Luis']\n",
      "Would you like keep playing? Y or N: N\n"
     ]
    }
   ],
   "source": [
    "game_on = True\n",
    "game_list = [1,2,3]\n",
    "\n",
    "while game_on:\n",
    "    clear_output()\n",
    "    display_game(game_list)\n",
    "    position = position_choice()\n",
    "    \n",
    "    game_list = replacement_choice(game_list, position)\n",
    "    clear_output()\n",
    "    display_game(game_list)\n",
    "    \n",
    "    game_on = gameon_choice()"
   ]
  },
  {
   "cell_type": "code",
   "execution_count": null,
   "id": "4f4fd4e6",
   "metadata": {},
   "outputs": [],
   "source": []
  }
 ],
 "metadata": {
  "kernelspec": {
   "display_name": "Python 3 (ipykernel)",
   "language": "python",
   "name": "python3"
  },
  "language_info": {
   "codemirror_mode": {
    "name": "ipython",
    "version": 3
   },
   "file_extension": ".py",
   "mimetype": "text/x-python",
   "name": "python",
   "nbconvert_exporter": "python",
   "pygments_lexer": "ipython3",
   "version": "3.9.12"
  }
 },
 "nbformat": 4,
 "nbformat_minor": 5
}
