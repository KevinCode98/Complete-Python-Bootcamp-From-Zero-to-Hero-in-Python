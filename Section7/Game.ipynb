{
 "cells": [
  {
   "cell_type": "markdown",
   "id": "0e8b29ad",
   "metadata": {},
   "source": [
    "# Warm Up Proyect Excercises\n",
    "\n",
    "\n",
    "* We're almost ready for you to begin creating a full, interactive Python program.\n",
    "\n",
    "* For you upcoming milestone proyect you will be creating an interactive Tic Tac Toe game! \n",
    "\n",
    "* In order to 'warm up' for this project, we're going to code along with a few excersies in order for you to see how to use Python code to the following:\n",
    "    * Grab user input\n",
    "    * Manipulate a variable based on input\n",
    "    * Return back adjusted variable\n",
    "* Most programs that are interactive work on this very simple idea.\n",
    "    * Display something visual to the user\n",
    "    * Let the user update through an interaction\n",
    "    * Update variables in the program\n",
    "    * Display updated visual\n",
    "* In the next seies of short lectures, we will guide you through examples of how to perform these tasks with Python.\n",
    "* Keep in mind, there are many diferent ways of performing the same task, so don't feel restrited by the expales we show here."
   ]
  },
  {
   "cell_type": "markdown",
   "id": "f155e5a9",
   "metadata": {},
   "source": [
    "## Display Information"
   ]
  },
  {
   "cell_type": "code",
   "execution_count": 1,
   "id": "f11ae4cd",
   "metadata": {},
   "outputs": [
    {
     "name": "stdout",
     "output_type": "stream",
     "text": [
      "[1, 2, 3]\n"
     ]
    }
   ],
   "source": [
    "print([1,2,3])"
   ]
  },
  {
   "cell_type": "code",
   "execution_count": 2,
   "id": "7be9d370",
   "metadata": {},
   "outputs": [
    {
     "name": "stdout",
     "output_type": "stream",
     "text": [
      "[1, 2, 3]\n",
      "[4, 5, 6]\n",
      "[7, 8, 9]\n"
     ]
    }
   ],
   "source": [
    "print([1,2,3])\n",
    "print([4,5,6])\n",
    "print([7,8,9])"
   ]
  },
  {
   "cell_type": "code",
   "execution_count": 3,
   "id": "8f7fcc7d",
   "metadata": {},
   "outputs": [
    {
     "name": "stdout",
     "output_type": "stream",
     "text": [
      "[' ', ' ', ' ']\n",
      "[' ', ' ', ' ']\n",
      "[' ', ' ', ' ']\n"
     ]
    }
   ],
   "source": [
    "def display(row1, row2, row3):\n",
    "    print(row1)\n",
    "    print(row2)    \n",
    "    print(row3)\n",
    "    \n",
    "row1 = [' ', ' ' , ' ']\n",
    "row2 = [' ', ' ' , ' ']\n",
    "row3 = [' ', ' ' , ' ']\n",
    "\n",
    "display(row1, row2, row3)"
   ]
  },
  {
   "cell_type": "code",
   "execution_count": 4,
   "id": "fb9d1fda",
   "metadata": {},
   "outputs": [
    {
     "name": "stdout",
     "output_type": "stream",
     "text": [
      "[' ', ' ', ' ']\n",
      "[' ', 'X', ' ']\n",
      "[' ', ' ', ' ']\n"
     ]
    }
   ],
   "source": [
    "row2 [1] = 'X'\n",
    "\n",
    "display(row1, row2, row3)"
   ]
  },
  {
   "cell_type": "markdown",
   "id": "45bd3f64",
   "metadata": {},
   "source": [
    "---\n",
    "## Accepting User Input"
   ]
  },
  {
   "cell_type": "code",
   "execution_count": 5,
   "id": "4b0e4f66",
   "metadata": {},
   "outputs": [
    {
     "name": "stdout",
     "output_type": "stream",
     "text": [
      "Please enter a value: 2\n"
     ]
    }
   ],
   "source": [
    "result = input('Please enter a value: ')"
   ]
  },
  {
   "cell_type": "code",
   "execution_count": 6,
   "id": "f96ae5d1",
   "metadata": {},
   "outputs": [],
   "source": [
    "result_int = int(result)"
   ]
  },
  {
   "cell_type": "code",
   "execution_count": 7,
   "id": "3d5894c1",
   "metadata": {},
   "outputs": [
    {
     "name": "stdout",
     "output_type": "stream",
     "text": [
      "Choose an index position: 1\n"
     ]
    },
    {
     "data": {
      "text/plain": [
       "' '"
      ]
     },
     "execution_count": 7,
     "metadata": {},
     "output_type": "execute_result"
    }
   ],
   "source": [
    "position_index = int(input('Choose an index position: '))\n",
    "row1[position_index]"
   ]
  },
  {
   "cell_type": "code",
   "execution_count": 8,
   "id": "d8bc67f7",
   "metadata": {},
   "outputs": [
    {
     "name": "stdout",
     "output_type": "stream",
     "text": [
      "Enter a number: 2\n"
     ]
    }
   ],
   "source": [
    "result = input(\"Enter a number: \")"
   ]
  },
  {
   "cell_type": "markdown",
   "id": "4a85edef",
   "metadata": {},
   "source": [
    "---\n",
    "## Validating User Input\n",
    "\n",
    "* We've seen how to use input() to interact with a user and how to convert the string data type into another type, such as an integer.\n",
    "\n",
    "* Let's now explore how to further validate user input to avoid errors for invalid conversions."
   ]
  },
  {
   "cell_type": "code",
   "execution_count": 2,
   "id": "92eda636",
   "metadata": {},
   "outputs": [
    {
     "name": "stdout",
     "output_type": "stream",
     "text": [
      "Pleas enter a number (0-10): 90\n",
      "Sorry, you are out of acceptable range (0 - 10)\n",
      "Pleas enter a number (0-10): two\n",
      "Sorry that is not a digit!\n",
      "Pleas enter a number (0-10): one\n",
      "Sorry that is not a digit!\n",
      "Pleas enter a number (0-10): 1\n"
     ]
    },
    {
     "data": {
      "text/plain": [
       "1"
      ]
     },
     "execution_count": 2,
     "metadata": {},
     "output_type": "execute_result"
    }
   ],
   "source": [
    "    def user_choice():\n",
    "        choice = 'WRONG'\n",
    "        acceptable_range = range(0,11)\n",
    "        within_range = False\n",
    "        \n",
    "        while not choice.isdigit() or within_range == False:\n",
    "            choice = input(\"Pleas enter a number (0-10): \")\n",
    "            \n",
    "            if not choice.isdigit(): \n",
    "                print('Sorry that is not a digit!')\n",
    "            else:\n",
    "                if int(choice) in acceptable_range:\n",
    "                    within_range = True\n",
    "                    return int(choice)\n",
    "                else:\n",
    "                    print('Sorry, you are out of acceptable range (0 - 10)')\n",
    "\n",
    "user_choice()"
   ]
  },
  {
   "cell_type": "markdown",
   "id": "6fc7206f",
   "metadata": {},
   "source": [
    "---\n",
    "## Tic Tac Toe\n",
    "* You now know enough to create a real program!\n",
    "* For your first milestone proyect you will create a Tic Tac Toe game for 2 human players.\n",
    "* Let's describe what the game will be like...\n",
    "* 2 players should be able yo play the game (both sitting at the same computer)\n",
    "* The board should be printed out every time a player makes a move\n",
    "* You should be able to accept input of the player position and then place a symbol on the board\n",
    "* Creating your first full program is always a big leap, but you will come out the other end a much better programmer! \n",
    "* We've set up a walkthrough notebook for you to help guide you along with the functions you will need to create\n",
    "* Let's explore what the game will look like once it is done\n",
    "* We'll also conver a few useful functions and go through the walkthrough notebook\n",
    "* Let's get started!"
   ]
  },
  {
   "cell_type": "code",
   "execution_count": 5,
   "id": "a7f47b11",
   "metadata": {},
   "outputs": [
    {
     "name": "stdout",
     "output_type": "stream",
     "text": [
      "X|O|X\n",
      "------\n",
      "O|X|O\n",
      "------\n",
      "X|O|X\n"
     ]
    }
   ],
   "source": [
    "from IPython.display import clear_output\n",
    "\n",
    "def display_board(board):\n",
    "    clear_output()\n",
    "    print(board[7] + '|' +  board[8] + '|' +  board[9] )\n",
    "    print('------')\n",
    "    print(board[4] + '|' +  board[5] + '|' +  board[6] )    \n",
    "    print('------')\n",
    "    print(board[1] + '|' +  board[2] + '|' +  board[3] )    \n",
    "    \n",
    "test_board = ['#', 'X', 'O','X', 'O','X', 'O','X', 'O', 'X']\n",
    "display_board(test_board)"
   ]
  },
  {
   "cell_type": "code",
   "execution_count": 6,
   "id": "5f2da1d2",
   "metadata": {},
   "outputs": [
    {
     "name": "stdout",
     "output_type": "stream",
     "text": [
      " | | \n",
      "------\n",
      " | | \n",
      "------\n",
      " | | \n"
     ]
    }
   ],
   "source": [
    "test_board = [' '] * 10\n",
    "display_board(test_board)"
   ]
  },
  {
   "cell_type": "code",
   "execution_count": 9,
   "id": "17208270",
   "metadata": {},
   "outputs": [
    {
     "name": "stdout",
     "output_type": "stream",
     "text": [
      "Player 1, choose X or O: O\n",
      "O\n",
      "X\n"
     ]
    }
   ],
   "source": [
    "def player_input():\n",
    "    marker = ''\n",
    "    \n",
    "    # Keep asking player 1 to choose X or O \n",
    "    while marker != 'X' and marker != 'O':\n",
    "        marker = input('Player 1, choose X or O: ')\n",
    "    \n",
    "    # Assing player, the oposite marker\n",
    "    player1 = marker\n",
    "    player2 = 'O' if player1 == 'X' else 'X'\n",
    "    \n",
    "    return (player1, player2)\n",
    "\n",
    "player1_marker, player2_marker = player_input()\n",
    "print(player1_marker)\n",
    "print(player2_marker)"
   ]
  },
  {
   "cell_type": "code",
   "execution_count": 16,
   "id": "0c8f8f52",
   "metadata": {},
   "outputs": [],
   "source": [
    "def place_maker(board, marker, position):\n",
    "    board[position] = marker"
   ]
  },
  {
   "cell_type": "code",
   "execution_count": 18,
   "id": "c51e2858",
   "metadata": {},
   "outputs": [
    {
     "name": "stdout",
     "output_type": "stream",
     "text": [
      "X|$|X\n",
      "------\n",
      "O|X|O\n",
      "------\n",
      "X|O|X\n"
     ]
    }
   ],
   "source": [
    "place_maker(test_board, '$', 8)\n",
    "display_board(test_board)"
   ]
  },
  {
   "cell_type": "code",
   "execution_count": 21,
   "id": "7c435df0",
   "metadata": {},
   "outputs": [],
   "source": [
    "def win_check(board, mark):\n",
    "    # WIN TIC TAC TOE?\n",
    "    return (\n",
    "        # All rows, and check to see if they all share the same marker\n",
    "        (board[1] == board[2] == board[3] == mark) or\n",
    "        (board[4] == board[5] == board[6] == mark) or\n",
    "        (board[7] == board[8] == board[9] == mark) or\n",
    "\n",
    "        # All columns, check to see if marker matches\n",
    "        (board[1] == board[4] == board[7] == mark) or\n",
    "        (board[2] == board[5] == board[8] == mark) or\n",
    "        (board[3] == board[6] == board[9] == mark) or\n",
    "       \n",
    "        # 2 diagonals, check to see match\n",
    "        (board[1] == board[5] == board[9] == mark) or\n",
    "        (board[3] == board[5] == board[7] == mark)\n",
    "    )    "
   ]
  },
  {
   "cell_type": "code",
   "execution_count": 22,
   "id": "37d7d999",
   "metadata": {},
   "outputs": [
    {
     "name": "stdout",
     "output_type": "stream",
     "text": [
      "X|$|X\n",
      "------\n",
      "O|X|O\n",
      "------\n",
      "X|O|X\n"
     ]
    },
    {
     "data": {
      "text/plain": [
       "True"
      ]
     },
     "execution_count": 22,
     "metadata": {},
     "output_type": "execute_result"
    }
   ],
   "source": [
    "display_board(test_board)\n",
    "win_check(test_board, 'X')"
   ]
  },
  {
   "cell_type": "code",
   "execution_count": 23,
   "id": "6b9f8613",
   "metadata": {},
   "outputs": [],
   "source": [
    "import random\n",
    "\n",
    "def choose_first():\n",
    "    flip = random.randint(0,1)\n",
    "    return 'Player 1' if flip == 0 else 'Player 2'"
   ]
  },
  {
   "cell_type": "code",
   "execution_count": 24,
   "id": "60db43bd",
   "metadata": {},
   "outputs": [],
   "source": [
    "def space_check(board, position):\n",
    "    return board[position] == ' '"
   ]
  },
  {
   "cell_type": "code",
   "execution_count": 25,
   "id": "018c0b67",
   "metadata": {},
   "outputs": [],
   "source": [
    "def full_board_check(board):\n",
    "    for i in range(1, 10):\n",
    "        if space_check(board, i):\n",
    "            return False\n",
    "    # Board is full is we return True\n",
    "    return True"
   ]
  },
  {
   "cell_type": "code",
   "execution_count": 26,
   "id": "637d2289",
   "metadata": {},
   "outputs": [],
   "source": [
    "def player_choice(board):\n",
    "    position = 0\n",
    "    \n",
    "    while position not in list(range(1,10)) or not space_check(board, position):\n",
    "        position = int(input('Choose a position: (1 - 9)'))\n",
    "    return position"
   ]
  },
  {
   "cell_type": "code",
   "execution_count": 27,
   "id": "0cbf8290",
   "metadata": {},
   "outputs": [],
   "source": [
    "def replay():\n",
    "    choice = input(\"Play again? Enter Yes or No\")\n",
    "    return choice == 'Yes'"
   ]
  },
  {
   "cell_type": "code",
   "execution_count": null,
   "id": "7c1d28df",
   "metadata": {},
   "outputs": [
    {
     "name": "stdout",
     "output_type": "stream",
     "text": [
      "Welcome to TIC TAC TOE\n"
     ]
    }
   ],
   "source": [
    "# While loop to keep running the game\n",
    "print('Welcome to TIC TAC TOE')\n",
    "\n",
    "while True:\n",
    "    # Play the game\n",
    "    \n",
    "    ## Set everything up (Board, whos first, choose markesr o, x)\n",
    "    the_board = [' '] * 10\n",
    "    player1_marker, player2_marker = player_input()\n",
    "    turn = choose_first()\n",
    "    print(turn + 'will go first')\n",
    "    play_game = input('Ready to play? y or n?')\n",
    "    \n",
    "    game_on = True if play_game == 'y' else False\n",
    "    \n",
    "    ## Game play\n",
    "    while game_on:\n",
    "        \n",
    "        ### Player one Turn\n",
    "        if turn == 'Player 1':\n",
    "            # Show the board\n",
    "            display_board(the_board)\n",
    "            # Choose a position\n",
    "            position = player_choice(the_board)\n",
    "            # Place the marker on the position\n",
    "            place_maker(the_board, player1_marker, position)\n",
    "            # Check if they won\n",
    "            if win_check(the_board, player1_marker):\n",
    "                display_board(the_board)\n",
    "                print('Player 1 has Won!!!')\n",
    "                game_on = False\n",
    "            # Or check if there is a tie\n",
    "            else: \n",
    "                if full_board_check(the_board):\n",
    "                    display_board(the_board)\n",
    "                    game_on = False\n",
    "                    print('Tie Game!')\n",
    "                else:\n",
    "                    # No tie and no win? Then next player's turn\n",
    "                    turn = 'Player 2'\n",
    "            \n",
    "            \n",
    "        ### Player two Turn\n",
    "        else:\n",
    "            # Show the board\n",
    "            display_board(the_board)\n",
    "            # Choose a position\n",
    "            position = player_choice(the_board)\n",
    "            # Place the marker on the position\n",
    "            place_maker(the_board, player2_marker, position)\n",
    "            # Check if they won\n",
    "            if win_check(the_board, player2_marker):\n",
    "                display_board(the_board)\n",
    "                print('Player 2 has Won!!!')\n",
    "                game_on = False\n",
    "            # Or check if there is a tie\n",
    "            else: \n",
    "                if full_board_check(the_board):\n",
    "                    display_board(the_board)\n",
    "                    game_on = False\n",
    "                    print('Tie Game!')\n",
    "                else:\n",
    "                    # No tie and no win? Then next player's turn\n",
    "                    turn = 'Player 1'\n",
    "            \n",
    "    if not replay():\n",
    "        break\n",
    "# break out of the while loop on replay()"
   ]
  }
 ],
 "metadata": {
  "kernelspec": {
   "display_name": "Python 3 (ipykernel)",
   "language": "python",
   "name": "python3"
  },
  "language_info": {
   "codemirror_mode": {
    "name": "ipython",
    "version": 3
   },
   "file_extension": ".py",
   "mimetype": "text/x-python",
   "name": "python",
   "nbconvert_exporter": "python",
   "pygments_lexer": "ipython3",
   "version": "3.9.12"
  }
 },
 "nbformat": 4,
 "nbformat_minor": 5
}
